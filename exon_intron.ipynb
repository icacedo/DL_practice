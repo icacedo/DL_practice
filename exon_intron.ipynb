{
 "cells": [
  {
   "cell_type": "code",
   "execution_count": null,
   "id": "47305123",
   "metadata": {},
   "outputs": [],
   "source": [
    "# notes\n",
    "# machine learning works with tables\n",
    "# rows are examples and columns are atributes\n",
    "# tensor = n-dimensional array"
   ]
  },
  {
   "cell_type": "code",
   "execution_count": null,
   "id": "072867a3",
   "metadata": {},
   "outputs": [],
   "source": [
    "# in genDL repo\n",
    "# hi.true = high expression, true sites from highly expressed genes\n",
    "# lo.true = low expression\n",
    "# fakes have the same GT/AG site, but everything else is random\n",
    "# write something that takes the true set, fakes, and a fasta file as input\n",
    "# fasta is the thousands of examples of true or fake sites\n",
    "# use ex3 data for testing. ex5 has one replaced nucleotide.\n",
    "# tttcAG, where tttc can be tttc or cttt in ex3. AG does not change.\n",
    "# 3 files you want to use: hi.true, lo.true, ex3. trying to identify acceptor sites in ex3\n",
    "# when labeling data, run only acc or don at a time.\n",
    "# labels not for acc, don, they are positive/negative\n",
    "# 1 for positive, 0 for negative"
   ]
  },
  {
   "cell_type": "code",
   "execution_count": null,
   "id": "fbcb9f3b",
   "metadata": {},
   "outputs": [],
   "source": [
    "# one-hot encoding\n",
    "# A: [1,0,0,0]\n",
    "# C: [0,1,0,0]\n",
    "# G: [0,0,1,0]\n",
    "# T: [0,0,0,1]\n",
    "# https://d2l.ai/chapter_preliminaries/pandas.html#reading-the-dataset"
   ]
  },
  {
   "cell_type": "code",
   "execution_count": 18,
   "id": "6bb0ae31",
   "metadata": {},
   "outputs": [
    {
     "name": "stderr",
     "output_type": "stream",
     "text": [
      "IOPub data rate exceeded.\n",
      "The notebook server will temporarily stop sending output\n",
      "to the client in order to avoid crashing it.\n",
      "To change this limit, set the config variable\n",
      "`--NotebookApp.iopub_data_rate_limit`.\n",
      "\n",
      "Current values:\n",
      "NotebookApp.iopub_data_rate_limit=1000000.0 (bytes/sec)\n",
      "NotebookApp.rate_limit_window=3.0 (secs)\n",
      "\n"
     ]
    },
    {
     "data": {
      "text/plain": [
       "'          \\nseqs = [[1,2,3],[4,5,6],[7,8,9]]\\ninputs = pd.DataFrame(data = seq)\\ninputs\\n'"
      ]
     },
     "execution_count": 18,
     "metadata": {},
     "output_type": "execute_result"
    }
   ],
   "source": [
    "import pandas as pd\n",
    "import gzip\n",
    "\n",
    "fp = gzip.open(\"data/acc.ex3.fa.gz\")\n",
    "\n",
    "one_hot = {\n",
    "    'A': [1,0,0,0],\n",
    "    'C': [0,1,0,0],\n",
    "    'G': [0,0,1,0],\n",
    "    'T': [0,0,0,1]\n",
    "}\n",
    "\n",
    "seq_oh = []\n",
    "\n",
    "for line in fp:\n",
    "    onehot_seq = []\n",
    "    bstring = line.rstrip()\n",
    "    line = bstring.decode()\n",
    "    if line.startswith('>'): continue\n",
    "    for n in line:\n",
    "        seq_oh.append(one_hot[n])\n",
    "\n",
    "print(seq_oh)\n",
    "         \n",
    "            \n",
    "'''          \n",
    "seqs = [[1,2,3],[4,5,6],[7,8,9]]\n",
    "inputs = pd.DataFrame(data = seq)\n",
    "inputs\n",
    "'''"
   ]
  },
  {
   "cell_type": "code",
   "execution_count": null,
   "id": "665792a4",
   "metadata": {},
   "outputs": [],
   "source": [
    "# mix in the reals and fakes for the input\n",
    "# two different labels\n",
    "# titanic who lives who dies ML practice"
   ]
  },
  {
   "cell_type": "code",
   "execution_count": null,
   "id": "2cf54a4a",
   "metadata": {},
   "outputs": [],
   "source": []
  },
  {
   "cell_type": "code",
   "execution_count": null,
   "id": "f22d27ca",
   "metadata": {},
   "outputs": [],
   "source": []
  }
 ],
 "metadata": {
  "kernelspec": {
   "display_name": "Python 3",
   "language": "python",
   "name": "python3"
  },
  "language_info": {
   "codemirror_mode": {
    "name": "ipython",
    "version": 3
   },
   "file_extension": ".py",
   "mimetype": "text/x-python",
   "name": "python",
   "nbconvert_exporter": "python",
   "pygments_lexer": "ipython3",
   "version": "3.9.6"
  }
 },
 "nbformat": 4,
 "nbformat_minor": 5
}
